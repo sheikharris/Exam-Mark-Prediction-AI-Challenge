{
 "cells": [
  {
   "cell_type": "code",
   "execution_count": 1,
   "metadata": {},
   "outputs": [],
   "source": [
    "#importing the librarys\n",
    "import pandas as pd\n",
    "import seaborn as sns\n",
    "import matplotlib.pyplot as plt\n",
    "from sklearn.ensemble import RandomForestRegressor\n",
    "from sklearn.linear_model import SGDRegressor"
   ]
  },
  {
   "cell_type": "code",
   "execution_count": 2,
   "metadata": {},
   "outputs": [],
   "source": [
    "data=pd.read_csv(\"train.csv\")\n",
    "test=pd.read_csv(\"test.csv\")"
   ]
  },
  {
   "cell_type": "code",
   "execution_count": 3,
   "metadata": {},
   "outputs": [
    {
     "data": {
      "text/html": [
       "<div>\n",
       "<style scoped>\n",
       "    .dataframe tbody tr th:only-of-type {\n",
       "        vertical-align: middle;\n",
       "    }\n",
       "\n",
       "    .dataframe tbody tr th {\n",
       "        vertical-align: top;\n",
       "    }\n",
       "\n",
       "    .dataframe thead th {\n",
       "        text-align: right;\n",
       "    }\n",
       "</style>\n",
       "<table border=\"1\" class=\"dataframe\">\n",
       "  <thead>\n",
       "    <tr style=\"text-align: right;\">\n",
       "      <th></th>\n",
       "      <th>Unnamed: 0</th>\n",
       "      <th>gender</th>\n",
       "      <th>ethnicity</th>\n",
       "      <th>parental level of education</th>\n",
       "      <th>lunch</th>\n",
       "      <th>test preparation course</th>\n",
       "      <th>reading score</th>\n",
       "      <th>writing score</th>\n",
       "      <th>math score</th>\n",
       "    </tr>\n",
       "  </thead>\n",
       "  <tbody>\n",
       "    <tr>\n",
       "      <td>0</td>\n",
       "      <td>0</td>\n",
       "      <td>male</td>\n",
       "      <td>group C</td>\n",
       "      <td>some college</td>\n",
       "      <td>standard</td>\n",
       "      <td>none</td>\n",
       "      <td>61</td>\n",
       "      <td>62</td>\n",
       "      <td>61</td>\n",
       "    </tr>\n",
       "    <tr>\n",
       "      <td>1</td>\n",
       "      <td>1</td>\n",
       "      <td>female</td>\n",
       "      <td>group C</td>\n",
       "      <td>associate's degree</td>\n",
       "      <td>standard</td>\n",
       "      <td>none</td>\n",
       "      <td>62</td>\n",
       "      <td>53</td>\n",
       "      <td>53</td>\n",
       "    </tr>\n",
       "    <tr>\n",
       "      <td>2</td>\n",
       "      <td>2</td>\n",
       "      <td>female</td>\n",
       "      <td>group C</td>\n",
       "      <td>some college</td>\n",
       "      <td>free/reduced</td>\n",
       "      <td>completed</td>\n",
       "      <td>75</td>\n",
       "      <td>70</td>\n",
       "      <td>67</td>\n",
       "    </tr>\n",
       "    <tr>\n",
       "      <td>3</td>\n",
       "      <td>3</td>\n",
       "      <td>male</td>\n",
       "      <td>group C</td>\n",
       "      <td>some high school</td>\n",
       "      <td>free/reduced</td>\n",
       "      <td>none</td>\n",
       "      <td>76</td>\n",
       "      <td>65</td>\n",
       "      <td>79</td>\n",
       "    </tr>\n",
       "    <tr>\n",
       "      <td>4</td>\n",
       "      <td>4</td>\n",
       "      <td>male</td>\n",
       "      <td>group A</td>\n",
       "      <td>high school</td>\n",
       "      <td>free/reduced</td>\n",
       "      <td>none</td>\n",
       "      <td>58</td>\n",
       "      <td>44</td>\n",
       "      <td>53</td>\n",
       "    </tr>\n",
       "  </tbody>\n",
       "</table>\n",
       "</div>"
      ],
      "text/plain": [
       "   Unnamed: 0  gender ethnicity parental level of education         lunch  \\\n",
       "0           0    male   group C                some college      standard   \n",
       "1           1  female   group C          associate's degree      standard   \n",
       "2           2  female   group C                some college  free/reduced   \n",
       "3           3    male   group C            some high school  free/reduced   \n",
       "4           4    male   group A                 high school  free/reduced   \n",
       "\n",
       "  test preparation course  reading score  writing score  math score  \n",
       "0                    none             61             62          61  \n",
       "1                    none             62             53          53  \n",
       "2               completed             75             70          67  \n",
       "3                    none             76             65          79  \n",
       "4                    none             58             44          53  "
      ]
     },
     "execution_count": 3,
     "metadata": {},
     "output_type": "execute_result"
    }
   ],
   "source": [
    "data.head()"
   ]
  },
  {
   "cell_type": "code",
   "execution_count": 4,
   "metadata": {},
   "outputs": [
    {
     "data": {
      "text/html": [
       "<div>\n",
       "<style scoped>\n",
       "    .dataframe tbody tr th:only-of-type {\n",
       "        vertical-align: middle;\n",
       "    }\n",
       "\n",
       "    .dataframe tbody tr th {\n",
       "        vertical-align: top;\n",
       "    }\n",
       "\n",
       "    .dataframe thead th {\n",
       "        text-align: right;\n",
       "    }\n",
       "</style>\n",
       "<table border=\"1\" class=\"dataframe\">\n",
       "  <thead>\n",
       "    <tr style=\"text-align: right;\">\n",
       "      <th></th>\n",
       "      <th>Unnamed: 0</th>\n",
       "      <th>gender</th>\n",
       "      <th>ethnicity</th>\n",
       "      <th>parental level of education</th>\n",
       "      <th>lunch</th>\n",
       "      <th>test preparation course</th>\n",
       "      <th>reading score</th>\n",
       "      <th>writing score</th>\n",
       "    </tr>\n",
       "  </thead>\n",
       "  <tbody>\n",
       "    <tr>\n",
       "      <td>0</td>\n",
       "      <td>0</td>\n",
       "      <td>female</td>\n",
       "      <td>group C</td>\n",
       "      <td>some college</td>\n",
       "      <td>standard</td>\n",
       "      <td>none</td>\n",
       "      <td>67</td>\n",
       "      <td>72</td>\n",
       "    </tr>\n",
       "    <tr>\n",
       "      <td>1</td>\n",
       "      <td>1</td>\n",
       "      <td>male</td>\n",
       "      <td>group E</td>\n",
       "      <td>some college</td>\n",
       "      <td>standard</td>\n",
       "      <td>none</td>\n",
       "      <td>60</td>\n",
       "      <td>59</td>\n",
       "    </tr>\n",
       "    <tr>\n",
       "      <td>2</td>\n",
       "      <td>2</td>\n",
       "      <td>female</td>\n",
       "      <td>group C</td>\n",
       "      <td>bachelor's degree</td>\n",
       "      <td>standard</td>\n",
       "      <td>none</td>\n",
       "      <td>93</td>\n",
       "      <td>95</td>\n",
       "    </tr>\n",
       "    <tr>\n",
       "      <td>3</td>\n",
       "      <td>3</td>\n",
       "      <td>male</td>\n",
       "      <td>group D</td>\n",
       "      <td>associate's degree</td>\n",
       "      <td>standard</td>\n",
       "      <td>none</td>\n",
       "      <td>48</td>\n",
       "      <td>46</td>\n",
       "    </tr>\n",
       "    <tr>\n",
       "      <td>4</td>\n",
       "      <td>4</td>\n",
       "      <td>female</td>\n",
       "      <td>group B</td>\n",
       "      <td>associate's degree</td>\n",
       "      <td>standard</td>\n",
       "      <td>none</td>\n",
       "      <td>76</td>\n",
       "      <td>80</td>\n",
       "    </tr>\n",
       "  </tbody>\n",
       "</table>\n",
       "</div>"
      ],
      "text/plain": [
       "   Unnamed: 0  gender ethnicity parental level of education     lunch  \\\n",
       "0           0  female   group C                some college  standard   \n",
       "1           1    male   group E                some college  standard   \n",
       "2           2  female   group C           bachelor's degree  standard   \n",
       "3           3    male   group D          associate's degree  standard   \n",
       "4           4  female   group B          associate's degree  standard   \n",
       "\n",
       "  test preparation course  reading score  writing score  \n",
       "0                    none             67             72  \n",
       "1                    none             60             59  \n",
       "2                    none             93             95  \n",
       "3                    none             48             46  \n",
       "4                    none             76             80  "
      ]
     },
     "execution_count": 4,
     "metadata": {},
     "output_type": "execute_result"
    }
   ],
   "source": [
    "test.head()"
   ]
  },
  {
   "cell_type": "code",
   "execution_count": 5,
   "metadata": {},
   "outputs": [
    {
     "data": {
      "text/plain": [
       "Index(['Unnamed: 0', 'gender', 'ethnicity', 'parental level of education',\n",
       "       'lunch', 'test preparation course', 'reading score', 'writing score',\n",
       "       'math score'],\n",
       "      dtype='object')"
      ]
     },
     "execution_count": 5,
     "metadata": {},
     "output_type": "execute_result"
    }
   ],
   "source": [
    "data.columns"
   ]
  },
  {
   "cell_type": "code",
   "execution_count": 21,
   "metadata": {},
   "outputs": [
    {
     "data": {
      "image/png": "[encoded data removed]",
      "text/plain": [
       "<Figure size 432x288 with 1 Axes>"
      ]
     },
     "metadata": {
      "needs_background": "light"
     },
     "output_type": "display_data"
    }
   ],
   "source": [
    "#count plot for gender\n",
    "sns.countplot(x=\"gender\",data=data)\n",
    "plt.show()"
   ]
  },
  {
   "cell_type": "code",
   "execution_count": 12,
   "metadata": {},
   "outputs": [
    {
     "data": {
      "text/plain": [
       "<matplotlib.axes._subplots.AxesSubplot at 0x182ff7e5248>"
      ]
     },
     "execution_count": 12,
     "metadata": {},
     "output_type": "execute_result"
    },
    {
     "data": {
      "image/png": "[encoded data removed]",
      "text/plain": [
       "<Figure size 432x288 with 1 Axes>"
      ]
     },
     "metadata": {
      "needs_background": "light"
     },
     "output_type": "display_data"
    }
   ],
   "source": [
    "#countplot for ethnicity\n",
    "sns.countplot(x=\"ethnicity\",data=data)"
   ]
  },
  {
   "cell_type": "code",
   "execution_count": 14,
   "metadata": {},
   "outputs": [
    {
     "data": {
      "text/plain": [
       "<matplotlib.axes._subplots.AxesSubplot at 0x182ff8b8d48>"
      ]
     },
     "execution_count": 14,
     "metadata": {},
     "output_type": "execute_result"
    },
    {
     "data": {
      "image/png": "[encoded data removed]",
      "text/plain": [
       "<Figure size 432x288 with 1 Axes>"
      ]
     },
     "metadata": {
      "needs_background": "light"
     },
     "output_type": "display_data"
    }
   ],
   "source": [
    "#countplot for parental education \n",
    "sns.countplot(y=\"parental level of education\",data=data)"
   ]
  },
  {
   "cell_type": "code",
   "execution_count": 7,
   "metadata": {},
   "outputs": [
    {
     "data": {
      "image/png": "[encoded data removed]",
      "text/plain": [
       "<Figure size 720x360 with 1 Axes>"
      ]
     },
     "metadata": {
      "needs_background": "light"
     },
     "output_type": "display_data"
    }
   ],
   "source": [
    "#line plot of diff subject scores \n",
    "plt.figure(figsize=[10,5])\n",
    "plt.plot(range(1,51), data[\"reading score\"][:50] )\n",
    "plt.plot(range(1,51), data[\"writing score\"][:50] )\n",
    "plt.plot(range(1,51), data[\"math score\"][: 50] )\n",
    "plt.legend([\"read\",\"write\",\"math\"])\n",
    "plt.grid()\n",
    "plt.show()"
   ]
  },
  {
   "cell_type": "code",
   "execution_count": 15,
   "metadata": {},
   "outputs": [
    {
     "data": {
      "text/plain": [
       "<matplotlib.axes._subplots.AxesSubplot at 0x182ff96d508>"
      ]
     },
     "execution_count": 15,
     "metadata": {},
     "output_type": "execute_result"
    },
    {
     "data": {
      "image/png": "[encoded data removed]",
      "text/plain": [
       "<Figure size 432x288 with 1 Axes>"
      ]
     },
     "metadata": {
      "needs_background": "light"
     },
     "output_type": "display_data"
    }
   ],
   "source": [
    "#countplot for diff type of lunch \n",
    "sns.countplot(x=\"lunch\",data=data)"
   ]
  },
  {
   "cell_type": "code",
   "execution_count": 41,
   "metadata": {},
   "outputs": [
    {
     "data": {
      "text/plain": [
       "<matplotlib.axes._subplots.AxesSubplot at 0x18290399088>"
      ]
     },
     "execution_count": 41,
     "metadata": {},
     "output_type": "execute_result"
    },
    {
     "data": {
      "image/png": "[encoded data removed]",
      "text/plain": [
       "<Figure size 1080x360 with 1 Axes>"
      ]
     },
     "metadata": {
      "needs_background": "light"
     },
     "output_type": "display_data"
    }
   ],
   "source": [
    "#count plot of math score with hue as test preparation type\n",
    "plt.figure(figsize=[15,5])\n",
    "sns.countplot(x=\"math score\",hue=\"test preparation course\",data=data)"
   ]
  },
  {
   "cell_type": "code",
   "execution_count": 36,
   "metadata": {},
   "outputs": [
    {
     "data": {
      "image/png": "[encoded data removed]",
      "text/plain": [
       "<Figure size 1080x360 with 1 Axes>"
      ]
     },
     "metadata": {
      "needs_background": "light"
     },
     "output_type": "display_data"
    }
   ],
   "source": [
    "#count plot for reading score \n",
    "plt.figure(figsize=[15,5])\n",
    "plt.grid()\n",
    "sns.countplot(x=\"reading score\",data=data)\n",
    "plt.show()"
   ]
  },
  {
   "cell_type": "code",
   "execution_count": 31,
   "metadata": {},
   "outputs": [
    {
     "data": {
      "text/plain": [
       "<matplotlib.axes._subplots.AxesSubplot at 0x1828a125048>"
      ]
     },
     "execution_count": 31,
     "metadata": {},
     "output_type": "execute_result"
    },
    {
     "data": {
      "image/png": "[encoded data removed]",
      "text/plain": [
       "<Figure size 1152x360 with 1 Axes>"
      ]
     },
     "metadata": {
      "needs_background": "light"
     },
     "output_type": "display_data"
    }
   ],
   "source": [
    "#count plot for writing score \n",
    "plt.figure(figsize=[16,5])\n",
    "plt.grid()\n",
    "sns.countplot(x=\"writing score\",data=data)"
   ]
  },
  {
   "cell_type": "markdown",
   "metadata": {},
   "source": [
    "### Cleaning data"
   ]
  },
  {
   "cell_type": "code",
   "execution_count": 51,
   "metadata": {},
   "outputs": [
    {
     "data": {
      "text/plain": [
       "Index(['Unnamed: 0', 'gender', 'ethnicity', 'parental level of education',\n",
       "       'lunch', 'test preparation course', 'reading score', 'writing score',\n",
       "       'math score'],\n",
       "      dtype='object')"
      ]
     },
     "execution_count": 51,
     "metadata": {},
     "output_type": "execute_result"
    }
   ],
   "source": [
    "data.columns"
   ]
  },
  {
   "cell_type": "code",
   "execution_count": 14,
   "metadata": {},
   "outputs": [],
   "source": [
    "# ONE HOT ENCODING for objects types of features \n",
    "gender=pd.get_dummies(data[\"gender\"],drop_first=True)\n",
    "ethnicity=pd.get_dummies(data[\"ethnicity\"],drop_first=True)\n",
    "parental_eduction=pd.get_dummies(data[\"parental level of education\"],drop_first=True)\n",
    "lunch=pd.get_dummies(data[\"lunch\"],drop_first=True)\n",
    "preparation=pd.get_dummies(data[\"test preparation course\"],drop_first=True)\n",
    "math_score=data[\"math score\"]"
   ]
  },
  {
   "cell_type": "code",
   "execution_count": 8,
   "metadata": {},
   "outputs": [],
   "source": [
    "new_data=data.drop(labels=[\"math score\",\"Unnamed: 0\",\"gender\",\"ethnicity\",\"lunch\",\"test preparation course\",\"parental level of education\"],axis=1)"
   ]
  },
  {
   "cell_type": "code",
   "execution_count": 9,
   "metadata": {},
   "outputs": [
    {
     "data": {
      "text/html": [
       "<div>\n",
       "<style scoped>\n",
       "    .dataframe tbody tr th:only-of-type {\n",
       "        vertical-align: middle;\n",
       "    }\n",
       "\n",
       "    .dataframe tbody tr th {\n",
       "        vertical-align: top;\n",
       "    }\n",
       "\n",
       "    .dataframe thead th {\n",
       "        text-align: right;\n",
       "    }\n",
       "</style>\n",
       "<table border=\"1\" class=\"dataframe\">\n",
       "  <thead>\n",
       "    <tr style=\"text-align: right;\">\n",
       "      <th></th>\n",
       "      <th>reading score</th>\n",
       "      <th>writing score</th>\n",
       "    </tr>\n",
       "  </thead>\n",
       "  <tbody>\n",
       "    <tr>\n",
       "      <td>0</td>\n",
       "      <td>61</td>\n",
       "      <td>62</td>\n",
       "    </tr>\n",
       "    <tr>\n",
       "      <td>1</td>\n",
       "      <td>62</td>\n",
       "      <td>53</td>\n",
       "    </tr>\n",
       "    <tr>\n",
       "      <td>2</td>\n",
       "      <td>75</td>\n",
       "      <td>70</td>\n",
       "    </tr>\n",
       "    <tr>\n",
       "      <td>3</td>\n",
       "      <td>76</td>\n",
       "      <td>65</td>\n",
       "    </tr>\n",
       "    <tr>\n",
       "      <td>4</td>\n",
       "      <td>58</td>\n",
       "      <td>44</td>\n",
       "    </tr>\n",
       "  </tbody>\n",
       "</table>\n",
       "</div>"
      ],
      "text/plain": [
       "   reading score  writing score\n",
       "0             61             62\n",
       "1             62             53\n",
       "2             75             70\n",
       "3             76             65\n",
       "4             58             44"
      ]
     },
     "execution_count": 9,
     "metadata": {},
     "output_type": "execute_result"
    }
   ],
   "source": [
    "new_data.head()"
   ]
  },
  {
   "cell_type": "code",
   "execution_count": 10,
   "metadata": {},
   "outputs": [
    {
     "data": {
      "text/html": [
       "<div>\n",
       "<style scoped>\n",
       "    .dataframe tbody tr th:only-of-type {\n",
       "        vertical-align: middle;\n",
       "    }\n",
       "\n",
       "    .dataframe tbody tr th {\n",
       "        vertical-align: top;\n",
       "    }\n",
       "\n",
       "    .dataframe thead th {\n",
       "        text-align: right;\n",
       "    }\n",
       "</style>\n",
       "<table border=\"1\" class=\"dataframe\">\n",
       "  <thead>\n",
       "    <tr style=\"text-align: right;\">\n",
       "      <th></th>\n",
       "      <th>reading score</th>\n",
       "      <th>writing score</th>\n",
       "    </tr>\n",
       "  </thead>\n",
       "  <tbody>\n",
       "    <tr>\n",
       "      <td>0</td>\n",
       "      <td>-0.599805</td>\n",
       "      <td>-0.427067</td>\n",
       "    </tr>\n",
       "    <tr>\n",
       "      <td>1</td>\n",
       "      <td>-0.531267</td>\n",
       "      <td>-1.018652</td>\n",
       "    </tr>\n",
       "    <tr>\n",
       "      <td>2</td>\n",
       "      <td>0.359727</td>\n",
       "      <td>0.098785</td>\n",
       "    </tr>\n",
       "    <tr>\n",
       "      <td>3</td>\n",
       "      <td>0.428265</td>\n",
       "      <td>-0.229873</td>\n",
       "    </tr>\n",
       "    <tr>\n",
       "      <td>4</td>\n",
       "      <td>-0.805420</td>\n",
       "      <td>-1.610236</td>\n",
       "    </tr>\n",
       "  </tbody>\n",
       "</table>\n",
       "</div>"
      ],
      "text/plain": [
       "   reading score  writing score\n",
       "0      -0.599805      -0.427067\n",
       "1      -0.531267      -1.018652\n",
       "2       0.359727       0.098785\n",
       "3       0.428265      -0.229873\n",
       "4      -0.805420      -1.610236"
      ]
     },
     "execution_count": 10,
     "metadata": {},
     "output_type": "execute_result"
    }
   ],
   "source": [
    "#standard scaling the data\n",
    "from sklearn.preprocessing import StandardScaler\n",
    "scaler=StandardScaler().fit(new_data)\n",
    "data1=scaler.transform(new_data)\n",
    "data1=pd.DataFrame(data1,index=new_data.index,columns=new_data.columns)\n",
    "data1.head()"
   ]
  },
  {
   "cell_type": "code",
   "execution_count": 15,
   "metadata": {},
   "outputs": [],
   "source": [
    "train_data=pd.concat([data1,gender,ethnicity,parental_eduction,lunch,preparation,math_score],axis=1)"
   ]
  },
  {
   "cell_type": "code",
   "execution_count": 16,
   "metadata": {},
   "outputs": [
    {
     "data": {
      "text/html": [
       "<div>\n",
       "<style scoped>\n",
       "    .dataframe tbody tr th:only-of-type {\n",
       "        vertical-align: middle;\n",
       "    }\n",
       "\n",
       "    .dataframe tbody tr th {\n",
       "        vertical-align: top;\n",
       "    }\n",
       "\n",
       "    .dataframe thead th {\n",
       "        text-align: right;\n",
       "    }\n",
       "</style>\n",
       "<table border=\"1\" class=\"dataframe\">\n",
       "  <thead>\n",
       "    <tr style=\"text-align: right;\">\n",
       "      <th></th>\n",
       "      <th>reading score</th>\n",
       "      <th>writing score</th>\n",
       "      <th>male</th>\n",
       "      <th>group B</th>\n",
       "      <th>group C</th>\n",
       "      <th>group D</th>\n",
       "      <th>group E</th>\n",
       "      <th>bachelor's degree</th>\n",
       "      <th>high school</th>\n",
       "      <th>master's degree</th>\n",
       "      <th>some college</th>\n",
       "      <th>some high school</th>\n",
       "      <th>standard</th>\n",
       "      <th>none</th>\n",
       "      <th>math score</th>\n",
       "    </tr>\n",
       "  </thead>\n",
       "  <tbody>\n",
       "    <tr>\n",
       "      <td>0</td>\n",
       "      <td>-0.599805</td>\n",
       "      <td>-0.427067</td>\n",
       "      <td>1</td>\n",
       "      <td>0</td>\n",
       "      <td>1</td>\n",
       "      <td>0</td>\n",
       "      <td>0</td>\n",
       "      <td>0</td>\n",
       "      <td>0</td>\n",
       "      <td>0</td>\n",
       "      <td>1</td>\n",
       "      <td>0</td>\n",
       "      <td>1</td>\n",
       "      <td>1</td>\n",
       "      <td>61</td>\n",
       "    </tr>\n",
       "    <tr>\n",
       "      <td>1</td>\n",
       "      <td>-0.531267</td>\n",
       "      <td>-1.018652</td>\n",
       "      <td>0</td>\n",
       "      <td>0</td>\n",
       "      <td>1</td>\n",
       "      <td>0</td>\n",
       "      <td>0</td>\n",
       "      <td>0</td>\n",
       "      <td>0</td>\n",
       "      <td>0</td>\n",
       "      <td>0</td>\n",
       "      <td>0</td>\n",
       "      <td>1</td>\n",
       "      <td>1</td>\n",
       "      <td>53</td>\n",
       "    </tr>\n",
       "    <tr>\n",
       "      <td>2</td>\n",
       "      <td>0.359727</td>\n",
       "      <td>0.098785</td>\n",
       "      <td>0</td>\n",
       "      <td>0</td>\n",
       "      <td>1</td>\n",
       "      <td>0</td>\n",
       "      <td>0</td>\n",
       "      <td>0</td>\n",
       "      <td>0</td>\n",
       "      <td>0</td>\n",
       "      <td>1</td>\n",
       "      <td>0</td>\n",
       "      <td>0</td>\n",
       "      <td>0</td>\n",
       "      <td>67</td>\n",
       "    </tr>\n",
       "    <tr>\n",
       "      <td>3</td>\n",
       "      <td>0.428265</td>\n",
       "      <td>-0.229873</td>\n",
       "      <td>1</td>\n",
       "      <td>0</td>\n",
       "      <td>1</td>\n",
       "      <td>0</td>\n",
       "      <td>0</td>\n",
       "      <td>0</td>\n",
       "      <td>0</td>\n",
       "      <td>0</td>\n",
       "      <td>0</td>\n",
       "      <td>1</td>\n",
       "      <td>0</td>\n",
       "      <td>1</td>\n",
       "      <td>79</td>\n",
       "    </tr>\n",
       "    <tr>\n",
       "      <td>4</td>\n",
       "      <td>-0.805420</td>\n",
       "      <td>-1.610236</td>\n",
       "      <td>1</td>\n",
       "      <td>0</td>\n",
       "      <td>0</td>\n",
       "      <td>0</td>\n",
       "      <td>0</td>\n",
       "      <td>0</td>\n",
       "      <td>1</td>\n",
       "      <td>0</td>\n",
       "      <td>0</td>\n",
       "      <td>0</td>\n",
       "      <td>0</td>\n",
       "      <td>1</td>\n",
       "      <td>53</td>\n",
       "    </tr>\n",
       "  </tbody>\n",
       "</table>\n",
       "</div>"
      ],
      "text/plain": [
       "   reading score  writing score  male  group B  group C  group D  group E  \\\n",
       "0      -0.599805      -0.427067     1        0        1        0        0   \n",
       "1      -0.531267      -1.018652     0        0        1        0        0   \n",
       "2       0.359727       0.098785     0        0        1        0        0   \n",
       "3       0.428265      -0.229873     1        0        1        0        0   \n",
       "4      -0.805420      -1.610236     1        0        0        0        0   \n",
       "\n",
       "   bachelor's degree  high school  master's degree  some college  \\\n",
       "0                  0            0                0             1   \n",
       "1                  0            0                0             0   \n",
       "2                  0            0                0             1   \n",
       "3                  0            0                0             0   \n",
       "4                  0            1                0             0   \n",
       "\n",
       "   some high school  standard  none  math score  \n",
       "0                 0         1     1          61  \n",
       "1                 0         1     1          53  \n",
       "2                 0         0     0          67  \n",
       "3                 1         0     1          79  \n",
       "4                 0         0     1          53  "
      ]
     },
     "execution_count": 16,
     "metadata": {},
     "output_type": "execute_result"
    }
   ],
   "source": [
    "#data going to use for math score prediction\n",
    "train_data.head()"
   ]
  },
  {
   "cell_type": "code",
   "execution_count": 17,
   "metadata": {},
   "outputs": [
    {
     "data": {
      "text/plain": [
       "Index(['Unnamed: 0', 'gender', 'ethnicity', 'parental level of education',\n",
       "       'lunch', 'test preparation course', 'reading score', 'writing score'],\n",
       "      dtype='object')"
      ]
     },
     "execution_count": 17,
     "metadata": {},
     "output_type": "execute_result"
    }
   ],
   "source": [
    "test.columns"
   ]
  },
  {
   "cell_type": "code",
   "execution_count": 18,
   "metadata": {},
   "outputs": [],
   "source": [
    "# Doing the same pre-processing for test data\n",
    "gender=pd.get_dummies(test[\"gender\"],drop_first=True)\n",
    "ethnicity=pd.get_dummies(test[\"ethnicity\"],drop_first=True)\n",
    "parental_eduction=pd.get_dummies(test[\"parental level of education\"],drop_first=True)\n",
    "lunch=pd.get_dummies(test[\"lunch\"],drop_first=True)\n",
    "preparation=pd.get_dummies(test[\"test preparation course\"],drop_first=True)"
   ]
  },
  {
   "cell_type": "code",
   "execution_count": 19,
   "metadata": {},
   "outputs": [],
   "source": [
    "new_data=test.drop(labels=[\"Unnamed: 0\",\"gender\",\"ethnicity\",\"lunch\",\"test preparation course\",\"parental level of education\"],axis=1)"
   ]
  },
  {
   "cell_type": "code",
   "execution_count": 20,
   "metadata": {},
   "outputs": [
    {
     "data": {
      "text/html": [
       "<div>\n",
       "<style scoped>\n",
       "    .dataframe tbody tr th:only-of-type {\n",
       "        vertical-align: middle;\n",
       "    }\n",
       "\n",
       "    .dataframe tbody tr th {\n",
       "        vertical-align: top;\n",
       "    }\n",
       "\n",
       "    .dataframe thead th {\n",
       "        text-align: right;\n",
       "    }\n",
       "</style>\n",
       "<table border=\"1\" class=\"dataframe\">\n",
       "  <thead>\n",
       "    <tr style=\"text-align: right;\">\n",
       "      <th></th>\n",
       "      <th>reading score</th>\n",
       "      <th>writing score</th>\n",
       "    </tr>\n",
       "  </thead>\n",
       "  <tbody>\n",
       "    <tr>\n",
       "      <td>0</td>\n",
       "      <td>-0.188577</td>\n",
       "      <td>0.230248</td>\n",
       "    </tr>\n",
       "    <tr>\n",
       "      <td>1</td>\n",
       "      <td>-0.668343</td>\n",
       "      <td>-0.624262</td>\n",
       "    </tr>\n",
       "    <tr>\n",
       "      <td>2</td>\n",
       "      <td>1.593411</td>\n",
       "      <td>1.742075</td>\n",
       "    </tr>\n",
       "    <tr>\n",
       "      <td>3</td>\n",
       "      <td>-1.490800</td>\n",
       "      <td>-1.478773</td>\n",
       "    </tr>\n",
       "    <tr>\n",
       "      <td>4</td>\n",
       "      <td>0.428265</td>\n",
       "      <td>0.756101</td>\n",
       "    </tr>\n",
       "  </tbody>\n",
       "</table>\n",
       "</div>"
      ],
      "text/plain": [
       "   reading score  writing score\n",
       "0      -0.188577       0.230248\n",
       "1      -0.668343      -0.624262\n",
       "2       1.593411       1.742075\n",
       "3      -1.490800      -1.478773\n",
       "4       0.428265       0.756101"
      ]
     },
     "execution_count": 20,
     "metadata": {},
     "output_type": "execute_result"
    }
   ],
   "source": [
    "from sklearn.preprocessing import StandardScaler\n",
    "#scaler=StandardScaler().fit(new_data)\n",
    "data1=scaler.transform(new_data)\n",
    "data1=pd.DataFrame(data1,index=new_data.index,columns=new_data.columns)\n",
    "data1.head()"
   ]
  },
  {
   "cell_type": "code",
   "execution_count": 21,
   "metadata": {},
   "outputs": [],
   "source": [
    "test_data=pd.concat([data1,gender,ethnicity,parental_eduction,lunch,preparation],axis=1)"
   ]
  },
  {
   "cell_type": "code",
   "execution_count": 22,
   "metadata": {},
   "outputs": [
    {
     "data": {
      "text/html": [
       "<div>\n",
       "<style scoped>\n",
       "    .dataframe tbody tr th:only-of-type {\n",
       "        vertical-align: middle;\n",
       "    }\n",
       "\n",
       "    .dataframe tbody tr th {\n",
       "        vertical-align: top;\n",
       "    }\n",
       "\n",
       "    .dataframe thead th {\n",
       "        text-align: right;\n",
       "    }\n",
       "</style>\n",
       "<table border=\"1\" class=\"dataframe\">\n",
       "  <thead>\n",
       "    <tr style=\"text-align: right;\">\n",
       "      <th></th>\n",
       "      <th>reading score</th>\n",
       "      <th>writing score</th>\n",
       "      <th>male</th>\n",
       "      <th>group B</th>\n",
       "      <th>group C</th>\n",
       "      <th>group D</th>\n",
       "      <th>group E</th>\n",
       "      <th>bachelor's degree</th>\n",
       "      <th>high school</th>\n",
       "      <th>master's degree</th>\n",
       "      <th>some college</th>\n",
       "      <th>some high school</th>\n",
       "      <th>standard</th>\n",
       "      <th>none</th>\n",
       "    </tr>\n",
       "  </thead>\n",
       "  <tbody>\n",
       "    <tr>\n",
       "      <td>0</td>\n",
       "      <td>-0.188577</td>\n",
       "      <td>0.230248</td>\n",
       "      <td>0</td>\n",
       "      <td>0</td>\n",
       "      <td>1</td>\n",
       "      <td>0</td>\n",
       "      <td>0</td>\n",
       "      <td>0</td>\n",
       "      <td>0</td>\n",
       "      <td>0</td>\n",
       "      <td>1</td>\n",
       "      <td>0</td>\n",
       "      <td>1</td>\n",
       "      <td>1</td>\n",
       "    </tr>\n",
       "    <tr>\n",
       "      <td>1</td>\n",
       "      <td>-0.668343</td>\n",
       "      <td>-0.624262</td>\n",
       "      <td>1</td>\n",
       "      <td>0</td>\n",
       "      <td>0</td>\n",
       "      <td>0</td>\n",
       "      <td>1</td>\n",
       "      <td>0</td>\n",
       "      <td>0</td>\n",
       "      <td>0</td>\n",
       "      <td>1</td>\n",
       "      <td>0</td>\n",
       "      <td>1</td>\n",
       "      <td>1</td>\n",
       "    </tr>\n",
       "    <tr>\n",
       "      <td>2</td>\n",
       "      <td>1.593411</td>\n",
       "      <td>1.742075</td>\n",
       "      <td>0</td>\n",
       "      <td>0</td>\n",
       "      <td>1</td>\n",
       "      <td>0</td>\n",
       "      <td>0</td>\n",
       "      <td>1</td>\n",
       "      <td>0</td>\n",
       "      <td>0</td>\n",
       "      <td>0</td>\n",
       "      <td>0</td>\n",
       "      <td>1</td>\n",
       "      <td>1</td>\n",
       "    </tr>\n",
       "    <tr>\n",
       "      <td>3</td>\n",
       "      <td>-1.490800</td>\n",
       "      <td>-1.478773</td>\n",
       "      <td>1</td>\n",
       "      <td>0</td>\n",
       "      <td>0</td>\n",
       "      <td>1</td>\n",
       "      <td>0</td>\n",
       "      <td>0</td>\n",
       "      <td>0</td>\n",
       "      <td>0</td>\n",
       "      <td>0</td>\n",
       "      <td>0</td>\n",
       "      <td>1</td>\n",
       "      <td>1</td>\n",
       "    </tr>\n",
       "    <tr>\n",
       "      <td>4</td>\n",
       "      <td>0.428265</td>\n",
       "      <td>0.756101</td>\n",
       "      <td>0</td>\n",
       "      <td>1</td>\n",
       "      <td>0</td>\n",
       "      <td>0</td>\n",
       "      <td>0</td>\n",
       "      <td>0</td>\n",
       "      <td>0</td>\n",
       "      <td>0</td>\n",
       "      <td>0</td>\n",
       "      <td>0</td>\n",
       "      <td>1</td>\n",
       "      <td>1</td>\n",
       "    </tr>\n",
       "  </tbody>\n",
       "</table>\n",
       "</div>"
      ],
      "text/plain": [
       "   reading score  writing score  male  group B  group C  group D  group E  \\\n",
       "0      -0.188577       0.230248     0        0        1        0        0   \n",
       "1      -0.668343      -0.624262     1        0        0        0        1   \n",
       "2       1.593411       1.742075     0        0        1        0        0   \n",
       "3      -1.490800      -1.478773     1        0        0        1        0   \n",
       "4       0.428265       0.756101     0        1        0        0        0   \n",
       "\n",
       "   bachelor's degree  high school  master's degree  some college  \\\n",
       "0                  0            0                0             1   \n",
       "1                  0            0                0             1   \n",
       "2                  1            0                0             0   \n",
       "3                  0            0                0             0   \n",
       "4                  0            0                0             0   \n",
       "\n",
       "   some high school  standard  none  \n",
       "0                 0         1     1  \n",
       "1                 0         1     1  \n",
       "2                 0         1     1  \n",
       "3                 0         1     1  \n",
       "4                 0         1     1  "
      ]
     },
     "execution_count": 22,
     "metadata": {},
     "output_type": "execute_result"
    }
   ],
   "source": [
    "test_data.head()"
   ]
  },
  {
   "cell_type": "code",
   "execution_count": 23,
   "metadata": {},
   "outputs": [
    {
     "data": {
      "text/html": [
       "<div>\n",
       "<style scoped>\n",
       "    .dataframe tbody tr th:only-of-type {\n",
       "        vertical-align: middle;\n",
       "    }\n",
       "\n",
       "    .dataframe tbody tr th {\n",
       "        vertical-align: top;\n",
       "    }\n",
       "\n",
       "    .dataframe thead th {\n",
       "        text-align: right;\n",
       "    }\n",
       "</style>\n",
       "<table border=\"1\" class=\"dataframe\">\n",
       "  <thead>\n",
       "    <tr style=\"text-align: right;\">\n",
       "      <th></th>\n",
       "      <th>reading score</th>\n",
       "      <th>writing score</th>\n",
       "      <th>male</th>\n",
       "      <th>group B</th>\n",
       "      <th>group C</th>\n",
       "      <th>group D</th>\n",
       "      <th>group E</th>\n",
       "      <th>bachelor's degree</th>\n",
       "      <th>high school</th>\n",
       "      <th>master's degree</th>\n",
       "      <th>some college</th>\n",
       "      <th>some high school</th>\n",
       "      <th>standard</th>\n",
       "      <th>none</th>\n",
       "      <th>math score</th>\n",
       "    </tr>\n",
       "  </thead>\n",
       "  <tbody>\n",
       "    <tr>\n",
       "      <td>0</td>\n",
       "      <td>-0.599805</td>\n",
       "      <td>-0.427067</td>\n",
       "      <td>1</td>\n",
       "      <td>0</td>\n",
       "      <td>1</td>\n",
       "      <td>0</td>\n",
       "      <td>0</td>\n",
       "      <td>0</td>\n",
       "      <td>0</td>\n",
       "      <td>0</td>\n",
       "      <td>1</td>\n",
       "      <td>0</td>\n",
       "      <td>1</td>\n",
       "      <td>1</td>\n",
       "      <td>61</td>\n",
       "    </tr>\n",
       "    <tr>\n",
       "      <td>1</td>\n",
       "      <td>-0.531267</td>\n",
       "      <td>-1.018652</td>\n",
       "      <td>0</td>\n",
       "      <td>0</td>\n",
       "      <td>1</td>\n",
       "      <td>0</td>\n",
       "      <td>0</td>\n",
       "      <td>0</td>\n",
       "      <td>0</td>\n",
       "      <td>0</td>\n",
       "      <td>0</td>\n",
       "      <td>0</td>\n",
       "      <td>1</td>\n",
       "      <td>1</td>\n",
       "      <td>53</td>\n",
       "    </tr>\n",
       "    <tr>\n",
       "      <td>2</td>\n",
       "      <td>0.359727</td>\n",
       "      <td>0.098785</td>\n",
       "      <td>0</td>\n",
       "      <td>0</td>\n",
       "      <td>1</td>\n",
       "      <td>0</td>\n",
       "      <td>0</td>\n",
       "      <td>0</td>\n",
       "      <td>0</td>\n",
       "      <td>0</td>\n",
       "      <td>1</td>\n",
       "      <td>0</td>\n",
       "      <td>0</td>\n",
       "      <td>0</td>\n",
       "      <td>67</td>\n",
       "    </tr>\n",
       "    <tr>\n",
       "      <td>3</td>\n",
       "      <td>0.428265</td>\n",
       "      <td>-0.229873</td>\n",
       "      <td>1</td>\n",
       "      <td>0</td>\n",
       "      <td>1</td>\n",
       "      <td>0</td>\n",
       "      <td>0</td>\n",
       "      <td>0</td>\n",
       "      <td>0</td>\n",
       "      <td>0</td>\n",
       "      <td>0</td>\n",
       "      <td>1</td>\n",
       "      <td>0</td>\n",
       "      <td>1</td>\n",
       "      <td>79</td>\n",
       "    </tr>\n",
       "    <tr>\n",
       "      <td>4</td>\n",
       "      <td>-0.805420</td>\n",
       "      <td>-1.610236</td>\n",
       "      <td>1</td>\n",
       "      <td>0</td>\n",
       "      <td>0</td>\n",
       "      <td>0</td>\n",
       "      <td>0</td>\n",
       "      <td>0</td>\n",
       "      <td>1</td>\n",
       "      <td>0</td>\n",
       "      <td>0</td>\n",
       "      <td>0</td>\n",
       "      <td>0</td>\n",
       "      <td>1</td>\n",
       "      <td>53</td>\n",
       "    </tr>\n",
       "  </tbody>\n",
       "</table>\n",
       "</div>"
      ],
      "text/plain": [
       "   reading score  writing score  male  group B  group C  group D  group E  \\\n",
       "0      -0.599805      -0.427067     1        0        1        0        0   \n",
       "1      -0.531267      -1.018652     0        0        1        0        0   \n",
       "2       0.359727       0.098785     0        0        1        0        0   \n",
       "3       0.428265      -0.229873     1        0        1        0        0   \n",
       "4      -0.805420      -1.610236     1        0        0        0        0   \n",
       "\n",
       "   bachelor's degree  high school  master's degree  some college  \\\n",
       "0                  0            0                0             1   \n",
       "1                  0            0                0             0   \n",
       "2                  0            0                0             1   \n",
       "3                  0            0                0             0   \n",
       "4                  0            1                0             0   \n",
       "\n",
       "   some high school  standard  none  math score  \n",
       "0                 0         1     1          61  \n",
       "1                 0         1     1          53  \n",
       "2                 0         0     0          67  \n",
       "3                 1         0     1          79  \n",
       "4                 0         0     1          53  "
      ]
     },
     "execution_count": 23,
     "metadata": {},
     "output_type": "execute_result"
    }
   ],
   "source": [
    "train_data.head()"
   ]
  },
  {
   "cell_type": "markdown",
   "metadata": {},
   "source": [
    "### Model"
   ]
  },
  {
   "cell_type": "code",
   "execution_count": 24,
   "metadata": {},
   "outputs": [],
   "source": [
    "from sklearn.model_selection import train_test_split\n",
    "from sklearn.linear_model import LinearRegression\n",
    "from sklearn.cluster import KMeans\n",
    "from sklearn import linear_model"
   ]
  },
  {
   "cell_type": "markdown",
   "metadata": {},
   "source": [
    "### Culstring before reg...\n",
    "\n",
    "#### culstering the students into different culsters and building different regression for each cluster "
   ]
  },
  {
   "cell_type": "code",
   "execution_count": 27,
   "metadata": {},
   "outputs": [],
   "source": [
    "x=train_data.drop([\"math score\"],axis=1)\n",
    "y=train_data[\"math score\"]"
   ]
  },
  {
   "cell_type": "code",
   "execution_count": 68,
   "metadata": {},
   "outputs": [],
   "source": [
    "error=[]\n",
    "for i in range(2,5):\n",
    "   model=KMeans(random_state=0,n_clusters=i).fit(x)\n",
    "   error.append(model.inertia_)"
   ]
  },
  {
   "cell_type": "code",
   "execution_count": 69,
   "metadata": {},
   "outputs": [
    {
     "data": {
      "image/png": "[encoded data removed]",
      "text/plain": [
       "<Figure size 432x288 with 1 Axes>"
      ]
     },
     "metadata": {
      "needs_background": "light"
     },
     "output_type": "display_data"
    }
   ],
   "source": [
    "plt.plot(range(2,5), error)\n",
    "plt.show()"
   ]
  },
  {
   "cell_type": "markdown",
   "metadata": {},
   "source": [
    "##### no of culsting is taken as 3 "
   ]
  },
  {
   "cell_type": "code",
   "execution_count": 131,
   "metadata": {},
   "outputs": [],
   "source": [
    "model_C=KMeans(random_state=0,n_clusters=3).fit(x)"
   ]
  },
  {
   "cell_type": "code",
   "execution_count": 140,
   "metadata": {},
   "outputs": [],
   "source": [
    "c1=pd.DataFrame(columns=train_data.columns)\n",
    "c2=pd.DataFrame(columns=train_data.columns)\n",
    "c3=pd.DataFrame(columns=train_data.columns)\n",
    "\n",
    "index=model_C.predict(x)\n",
    "\n",
    "for i in range(len(index)):\n",
    "    if index[i]==0:\n",
    "        c1.loc[len(c1.index)]=train_data.iloc[i]\n",
    "    elif index[i]==1:\n",
    "        c2.loc[len(c2.index)]=train_data.iloc[i]\n",
    "    elif index[i]==2:\n",
    "        c3.loc[len(c3.index)]=train_data.iloc[i]\n",
    "    else:\n",
    "        print(\"Error\")\n"
   ]
  },
  {
   "cell_type": "code",
   "execution_count": 141,
   "metadata": {},
   "outputs": [
    {
     "data": {
      "text/plain": [
       "(208, 176, 316)"
      ]
     },
     "execution_count": 141,
     "metadata": {},
     "output_type": "execute_result"
    }
   ],
   "source": [
    "len(c1),len(c2),len(c3)"
   ]
  },
  {
   "cell_type": "markdown",
   "metadata": {},
   "source": [
    "#### Cluster 1"
   ]
  },
  {
   "cell_type": "code",
   "execution_count": 228,
   "metadata": {},
   "outputs": [],
   "source": [
    "x1=c1.drop([\"math score\"],axis=1)\n",
    "y1=c1[\"math score\"]"
   ]
  },
  {
   "cell_type": "code",
   "execution_count": 229,
   "metadata": {},
   "outputs": [],
   "source": [
    "X_train, X_test, y_train, y_test=train_test_split(x1,y1,test_size=0.2)"
   ]
  },
  {
   "cell_type": "code",
   "execution_count": 242,
   "metadata": {},
   "outputs": [
    {
     "data": {
      "text/plain": [
       "LinearRegression(copy_X=True, fit_intercept=True, n_jobs=None, normalize=False)"
      ]
     },
     "execution_count": 242,
     "metadata": {},
     "output_type": "execute_result"
    }
   ],
   "source": [
    "#testing model\n",
    "model1=LinearRegression(fit_intercept=True,normalize=False)\n",
    "model1.fit(X_train,y_train)"
   ]
  },
  {
   "cell_type": "code",
   "execution_count": 245,
   "metadata": {},
   "outputs": [
    {
     "data": {
      "text/plain": [
       "LinearRegression(copy_X=True, fit_intercept=True, n_jobs=None, normalize=False)"
      ]
     },
     "execution_count": 245,
     "metadata": {},
     "output_type": "execute_result"
    }
   ],
   "source": [
    "#final model\n",
    "model1=LinearRegression(fit_intercept=True,normalize=False)\n",
    "model1.fit(x1,y1)"
   ]
  },
  {
   "cell_type": "code",
   "execution_count": 246,
   "metadata": {},
   "outputs": [
    {
     "data": {
      "text/plain": [
       "(0.7818352394054741, 0.8073371841444427, 0.788362655624524)"
      ]
     },
     "execution_count": 246,
     "metadata": {},
     "output_type": "execute_result"
    }
   ],
   "source": [
    "model1.score(X_train,y_train),model1.score(X_test,y_test),model1.score(x1,y1)\n",
    "#(0.7872567853434413, 0.7642286930077352, 0.7829435325159717)"
   ]
  },
  {
   "cell_type": "markdown",
   "metadata": {},
   "source": [
    "#### Cluster 2"
   ]
  },
  {
   "cell_type": "code",
   "execution_count": 247,
   "metadata": {},
   "outputs": [],
   "source": [
    "x2=c2.drop([\"math score\"],axis=1)\n",
    "y2=c2[\"math score\"]\n",
    "X_train, X_test, y_train, y_test=train_test_split(x2,y2,test_size=0.2)"
   ]
  },
  {
   "cell_type": "code",
   "execution_count": 254,
   "metadata": {},
   "outputs": [
    {
     "data": {
      "text/plain": [
       "LinearRegression(copy_X=True, fit_intercept=True, n_jobs=None, normalize=True)"
      ]
     },
     "execution_count": 254,
     "metadata": {},
     "output_type": "execute_result"
    }
   ],
   "source": [
    "#testing model\n",
    "model2=LinearRegression(fit_intercept=True,normalize=True)\n",
    "model2.fit(X_train,y_train)"
   ]
  },
  {
   "cell_type": "code",
   "execution_count": 261,
   "metadata": {},
   "outputs": [
    {
     "data": {
      "text/plain": [
       "LinearRegression(copy_X=True, fit_intercept=True, n_jobs=None, normalize=True)"
      ]
     },
     "execution_count": 261,
     "metadata": {},
     "output_type": "execute_result"
    }
   ],
   "source": [
    "#final model\n",
    "model2=LinearRegression(fit_intercept=True,normalize=True)\n",
    "model2.fit(x2,y2)"
   ]
  },
  {
   "cell_type": "code",
   "execution_count": 262,
   "metadata": {},
   "outputs": [
    {
     "data": {
      "text/plain": [
       "(0.6998937341018113, 0.6244791497292096, 0.820688688188783)"
      ]
     },
     "execution_count": 262,
     "metadata": {},
     "output_type": "execute_result"
    }
   ],
   "source": [
    "model2.score(X_train,y_train),model2.score(X_test,y_test),model2.score(x2,y2)\n",
    "#(0.8587686141292141, 0.619892683597697, 0.8140049919406869)"
   ]
  },
  {
   "cell_type": "markdown",
   "metadata": {},
   "source": [
    "#### Cluster 3"
   ]
  },
  {
   "cell_type": "code",
   "execution_count": 263,
   "metadata": {},
   "outputs": [],
   "source": [
    "x3=c3.drop([\"math score\"],axis=1)\n",
    "y3=c3[\"math score\"]\n",
    "X_train, X_test, y_train, y_test=train_test_split(x3,y3,test_size=0.2)"
   ]
  },
  {
   "cell_type": "code",
   "execution_count": 269,
   "metadata": {},
   "outputs": [
    {
     "data": {
      "text/plain": [
       "LinearRegression(copy_X=True, fit_intercept=True, n_jobs=None, normalize=False)"
      ]
     },
     "execution_count": 269,
     "metadata": {},
     "output_type": "execute_result"
    }
   ],
   "source": [
    "#testing model\n",
    "model3=LinearRegression(fit_intercept=True,normalize=True)\n",
    "model3.fit(X_train,y_train)"
   ]
  },
  {
   "cell_type": "code",
   "execution_count": 271,
   "metadata": {},
   "outputs": [
    {
     "data": {
      "text/plain": [
       "LinearRegression(copy_X=True, fit_intercept=True, n_jobs=None, normalize=True)"
      ]
     },
     "execution_count": 271,
     "metadata": {},
     "output_type": "execute_result"
    }
   ],
   "source": [
    "#final model\n",
    "model3=LinearRegression(fit_intercept=True,normalize=True)\n",
    "model3.fit(x3,y3)"
   ]
  },
  {
   "cell_type": "code",
   "execution_count": 272,
   "metadata": {},
   "outputs": [
    {
     "data": {
      "text/plain": [
       "(0.7311317693810315, 0.7406959209210989, 0.7356632700987668)"
      ]
     },
     "execution_count": 272,
     "metadata": {},
     "output_type": "execute_result"
    }
   ],
   "source": [
    "model3.score(X_train,y_train),model3.score(X_test,y_test),model3.score(x3,y3)\n",
    "#(0.7363108301049002, 0.6943561965787387, 0.7303742008094012)"
   ]
  },
  {
   "cell_type": "markdown",
   "metadata": {},
   "source": [
    "##### cluster prediction"
   ]
  },
  {
   "cell_type": "code",
   "execution_count": 273,
   "metadata": {},
   "outputs": [],
   "source": [
    "tc1=pd.DataFrame(columns=test_data.columns)\n",
    "tc2=pd.DataFrame(columns=test_data.columns)\n",
    "tc3=pd.DataFrame(columns=test_data.columns)\n",
    "\n",
    "test_index=model_C.predict(test_data)\n",
    "\n",
    "for i in range(len(test_index)):\n",
    "    if index[i]==0:\n",
    "        tc1.loc[len(tc1.index)]=test_data.iloc[i]\n",
    "    elif index[i]==1:\n",
    "        tc2.loc[len(tc2.index)]=test_data.iloc[i]\n",
    "    elif index[i]==2:\n",
    "        tc3.loc[len(tc3.index)]=test_data.iloc[i]\n",
    "    else:\n",
    "        print(\"Error\")\n"
   ]
  },
  {
   "cell_type": "code",
   "execution_count": 274,
   "metadata": {},
   "outputs": [
    {
     "data": {
      "text/plain": [
       "(91, 69, 140)"
      ]
     },
     "execution_count": 274,
     "metadata": {},
     "output_type": "execute_result"
    }
   ],
   "source": [
    "len(tc1),len(tc2),len(tc3)"
   ]
  },
  {
   "cell_type": "code",
   "execution_count": 275,
   "metadata": {},
   "outputs": [],
   "source": [
    "res1=model.predict(tc1)\n",
    "res2=model.predict(tc2)\n",
    "res3=model.predict(tc3)"
   ]
  },
  {
   "cell_type": "code",
   "execution_count": 176,
   "metadata": {},
   "outputs": [
    {
     "data": {
      "text/plain": [
       "(reading score        1.867563\n",
       " writing score        1.807806\n",
       " male                 0.000000\n",
       " group B              1.000000\n",
       " group C              0.000000\n",
       " group D              0.000000\n",
       " group E              0.000000\n",
       " bachelor's degree    1.000000\n",
       " high school          0.000000\n",
       " master's degree      0.000000\n",
       " some college         0.000000\n",
       " some high school     0.000000\n",
       " standard             1.000000\n",
       " none                 1.000000\n",
       " Name: 0, dtype: float64, 89.48784619942728)"
      ]
     },
     "execution_count": 176,
     "metadata": {},
     "output_type": "execute_result"
    }
   ],
   "source": [
    "tc1.iloc[0],res1[0]"
   ]
  },
  {
   "cell_type": "code",
   "execution_count": 276,
   "metadata": {},
   "outputs": [],
   "source": [
    "sample=pd.DataFrame(columns=[\"index\",\"math score\"])"
   ]
  },
  {
   "cell_type": "code",
   "execution_count": 277,
   "metadata": {},
   "outputs": [],
   "source": [
    "for j in range(len(tc1)):\n",
    "    for i in range(len(test_data)):\n",
    "       if sum(tc1.iloc[j]==test_data.iloc[i])==14:\n",
    "        sample.loc[len(sample.index)]=(i,res1[j])\n",
    "         \n",
    "            "
   ]
  },
  {
   "cell_type": "code",
   "execution_count": 278,
   "metadata": {},
   "outputs": [],
   "source": [
    "for j in range(len(tc2)):\n",
    "    for i in range(len(test_data)):\n",
    "       if sum(tc2.iloc[j]==test_data.iloc[i])==14:\n",
    "        sample.loc[len(sample.index)]=(i,res2[j])\n",
    "        break\n",
    "         \n",
    "            "
   ]
  },
  {
   "cell_type": "code",
   "execution_count": 279,
   "metadata": {},
   "outputs": [],
   "source": [
    "for j in range(len(tc3)):\n",
    "    for i in range(len(test_data)):\n",
    "       if sum(tc3.iloc[j]==test_data.iloc[i])==14:\n",
    "        sample.loc[len(sample.index)]=(i,res3[j])\n",
    "        break\n",
    "         \n",
    "            "
   ]
  },
  {
   "cell_type": "code",
   "execution_count": 282,
   "metadata": {},
   "outputs": [],
   "source": [
    "temp=sample"
   ]
  },
  {
   "cell_type": "code",
   "execution_count": 283,
   "metadata": {},
   "outputs": [],
   "source": [
    "sample.index=sample[\"index\"]"
   ]
  },
  {
   "cell_type": "code",
   "execution_count": 284,
   "metadata": {},
   "outputs": [],
   "source": [
    "sample=sample.drop(labels=[\"index\"],axis=1)"
   ]
  },
  {
   "cell_type": "code",
   "execution_count": 285,
   "metadata": {},
   "outputs": [],
   "source": [
    "sample=sample.sort_index()"
   ]
  },
  {
   "cell_type": "code",
   "execution_count": 286,
   "metadata": {},
   "outputs": [],
   "source": [
    "s=pd.read_csv(\"sample_submissions.csv\")"
   ]
  },
  {
   "cell_type": "code",
   "execution_count": 287,
   "metadata": {},
   "outputs": [],
   "source": [
    "s=s.drop(labels=[\"math score\"],axis=1)"
   ]
  },
  {
   "cell_type": "code",
   "execution_count": 288,
   "metadata": {},
   "outputs": [],
   "source": [
    "s[\"math score\"]=sample[\"math score\"]"
   ]
  },
  {
   "cell_type": "code",
   "execution_count": 289,
   "metadata": {},
   "outputs": [],
   "source": [
    "s.to_csv(\"culster_3_2.csv\",index=False)"
   ]
  },
  {
   "cell_type": "markdown",
   "metadata": {},
   "source": [
    "## LinearRegression"
   ]
  },
  {
   "cell_type": "code",
   "execution_count": 29,
   "metadata": {},
   "outputs": [],
   "source": [
    "X_train, X_test, y_train, y_test=train_test_split(x,y)"
   ]
  },
  {
   "cell_type": "code",
   "execution_count": 108,
   "metadata": {},
   "outputs": [
    {
     "data": {
      "text/plain": [
       "LinearRegression(copy_X=True, fit_intercept=True, n_jobs=None, normalize=True)"
      ]
     },
     "execution_count": 108,
     "metadata": {},
     "output_type": "execute_result"
    }
   ],
   "source": [
    "model=LinearRegression(fit_intercept=True,normalize=True)\n",
    "model.fit(X_train,y_train)"
   ]
  },
  {
   "cell_type": "markdown",
   "metadata": {},
   "source": [
    "## Lasso Regression"
   ]
  },
  {
   "cell_type": "code",
   "execution_count": 103,
   "metadata": {},
   "outputs": [
    {
     "data": {
      "text/plain": [
       "Lasso(alpha=0.5, copy_X=True, fit_intercept=True, max_iter=1000,\n",
       "      normalize=False, positive=False, precompute=False, random_state=None,\n",
       "      selection='cyclic', tol=0.0001, warm_start=False)"
      ]
     },
     "execution_count": 103,
     "metadata": {},
     "output_type": "execute_result"
    }
   ],
   "source": [
    "model = linear_model.Lasso(alpha=0.5)\n",
    "model.fit(X_train,y_train)"
   ]
  },
  {
   "cell_type": "code",
   "execution_count": 104,
   "metadata": {},
   "outputs": [
    {
     "data": {
      "text/plain": [
       "(0.7130532095957853, 0.777560370241758)"
      ]
     },
     "execution_count": 104,
     "metadata": {},
     "output_type": "execute_result"
    }
   ],
   "source": [
    "model.score(X_train,y_train),model.score(X_test,y_test)\n",
    "#(0.886650191571781, 0.8740573055564635)"
   ]
  },
  {
   "cell_type": "code",
   "execution_count": 195,
   "metadata": {},
   "outputs": [
    {
     "data": {
      "text/plain": [
       "Lasso(alpha=0.5, copy_X=True, fit_intercept=True, max_iter=1000,\n",
       "      normalize=False, positive=False, precompute=False, random_state=None,\n",
       "      selection='cyclic', tol=0.0001, warm_start=False)"
      ]
     },
     "execution_count": 195,
     "metadata": {},
     "output_type": "execute_result"
    }
   ],
   "source": [
    "model = linear_model.Lasso(alpha=0.5)\n",
    "model.fit(x,y)"
   ]
  },
  {
   "cell_type": "code",
   "execution_count": 196,
   "metadata": {},
   "outputs": [
    {
     "data": {
      "text/plain": [
       "0.8527787011272037"
      ]
     },
     "execution_count": 196,
     "metadata": {},
     "output_type": "execute_result"
    }
   ],
   "source": [
    "model.score(x,y)\n",
    "#0.8843134073154246"
   ]
  },
  {
   "cell_type": "code",
   "execution_count": 184,
   "metadata": {},
   "outputs": [],
   "source": [
    "y_pred=model.predict(test_data)"
   ]
  },
  {
   "cell_type": "code",
   "execution_count": 185,
   "metadata": {},
   "outputs": [],
   "source": [
    "y_pred=np.round(y_pred,0)"
   ]
  },
  {
   "cell_type": "code",
   "execution_count": 186,
   "metadata": {},
   "outputs": [],
   "source": [
    "sample=pd.read_csv(\"sample_submissions.csv\")\n",
    "\n",
    "sample=sample.drop([\"math score\"],axis=1)\n",
    "\n",
    "sample[\"math score\"]=y_pred\n",
    "\n",
    "sample.to_csv(\"reg9.csv\",index=False)"
   ]
  },
  {
   "cell_type": "markdown",
   "metadata": {},
   "source": [
    "## Poly Reg"
   ]
  },
  {
   "cell_type": "code",
   "execution_count": 145,
   "metadata": {},
   "outputs": [],
   "source": [
    "from sklearn.preprocessing import PolynomialFeatures\n",
    "poly=PolynomialFeatures(3)\n",
    "x_train1=poly.fit_transform(X_train)"
   ]
  },
  {
   "cell_type": "code",
   "execution_count": 146,
   "metadata": {},
   "outputs": [
    {
     "data": {
      "text/plain": [
       "LinearRegression(copy_X=True, fit_intercept=True, n_jobs=None, normalize=False)"
      ]
     },
     "execution_count": 146,
     "metadata": {},
     "output_type": "execute_result"
    }
   ],
   "source": [
    "model=LinearRegression()\n",
    "model.fit(x_train1,y_train)"
   ]
  },
  {
   "cell_type": "code",
   "execution_count": 147,
   "metadata": {},
   "outputs": [
    {
     "data": {
      "text/plain": [
       "(0.9490251342722565, -0.8533023365337375)"
      ]
     },
     "execution_count": 147,
     "metadata": {},
     "output_type": "execute_result"
    }
   ],
   "source": [
    "model.score(x_train1,y_train),model.score(poly.transform(X_test),y_test)"
   ]
  },
  {
   "cell_type": "code",
   "execution_count": 148,
   "metadata": {},
   "outputs": [
    {
     "data": {
      "text/plain": [
       "0.5569524264219337"
      ]
     },
     "execution_count": 148,
     "metadata": {},
     "output_type": "execute_result"
    }
   ],
   "source": [
    "model.score(poly.transform(x),y)"
   ]
  },
  {
   "cell_type": "code",
   "execution_count": null,
   "metadata": {},
   "outputs": [],
   "source": [
    "model.predict()"
   ]
  },
  {
   "cell_type": "markdown",
   "metadata": {},
   "source": [
    "## NN"
   ]
  },
  {
   "cell_type": "code",
   "execution_count": 25,
   "metadata": {},
   "outputs": [],
   "source": [
    "import tensorflow as tf\n",
    "from tensorflow import keras\n",
    "import numpy as np"
   ]
  },
  {
   "cell_type": "code",
   "execution_count": 30,
   "metadata": {},
   "outputs": [],
   "source": [
    "xt=np.array(x)\n",
    "yt=np.array(y)\n",
    "xtest=np.array(X_test)\n",
    "ytest=np.array(y_test)"
   ]
  },
  {
   "cell_type": "code",
   "execution_count": 50,
   "metadata": {},
   "outputs": [
    {
     "name": "stdout",
     "output_type": "stream",
     "text": [
      "Train on 630 samples, validate on 70 samples\n",
      "Epoch 1/100\n",
      "630/630 [==============================] - 2s 3ms/sample - loss: 66.1362 - val_loss: 67.0554\n",
      "Epoch 2/100\n",
      "630/630 [==============================] - 0s 369us/sample - loss: 62.1810 - val_loss: 53.6354\n",
      "Epoch 3/100\n",
      "630/630 [==============================] - 0s 226us/sample - loss: 28.9297 - val_loss: 11.2502\n",
      "Epoch 4/100\n",
      "630/630 [==============================] - 0s 224us/sample - loss: 10.5971 - val_loss: 9.7621\n",
      "Epoch 5/100\n",
      "630/630 [==============================] - 0s 229us/sample - loss: 7.8975 - val_loss: 8.4204\n",
      "Epoch 6/100\n",
      "630/630 [==============================] - 0s 218us/sample - loss: 7.2558 - val_loss: 7.8339\n",
      "Epoch 7/100\n",
      "630/630 [==============================] - 0s 227us/sample - loss: 6.7186 - val_loss: 7.6738\n",
      "Epoch 8/100\n",
      "630/630 [==============================] - 0s 228us/sample - loss: 6.3706 - val_loss: 7.0811\n",
      "Epoch 9/100\n",
      "630/630 [==============================] - 0s 215us/sample - loss: 6.0994 - val_loss: 7.0136\n",
      "Epoch 10/100\n",
      "630/630 [==============================] - 0s 233us/sample - loss: 6.0039 - val_loss: 6.6912\n",
      "Epoch 11/100\n",
      "630/630 [==============================] - 0s 251us/sample - loss: 5.5901 - val_loss: 6.1678\n",
      "Epoch 12/100\n",
      "630/630 [==============================] - 0s 224us/sample - loss: 5.4919 - val_loss: 6.2043\n",
      "Epoch 13/100\n",
      "630/630 [==============================] - 0s 220us/sample - loss: 5.2834 - val_loss: 5.8699\n",
      "Epoch 14/100\n",
      "630/630 [==============================] - 0s 194us/sample - loss: 5.4314 - val_loss: 5.6917\n",
      "Epoch 15/100\n",
      "630/630 [==============================] - 0s 196us/sample - loss: 5.0297 - val_loss: 5.7944\n",
      "Epoch 16/100\n",
      "630/630 [==============================] - 0s 188us/sample - loss: 4.8965 - val_loss: 5.2817\n",
      "Epoch 17/100\n",
      "630/630 [==============================] - 0s 196us/sample - loss: 4.8910 - val_loss: 5.4392\n",
      "Epoch 18/100\n",
      "630/630 [==============================] - 0s 243us/sample - loss: 4.6774 - val_loss: 5.0536\n",
      "Epoch 19/100\n",
      "630/630 [==============================] - 0s 245us/sample - loss: 4.7322 - val_loss: 5.1779\n",
      "Epoch 20/100\n",
      "630/630 [==============================] - 0s 222us/sample - loss: 4.8668 - val_loss: 5.0702\n",
      "Epoch 21/100\n",
      "630/630 [==============================] - 0s 210us/sample - loss: 4.4683 - val_loss: 5.0598\n",
      "Epoch 22/100\n",
      "630/630 [==============================] - 0s 216us/sample - loss: 4.4388 - val_loss: 5.0304\n",
      "Epoch 23/100\n",
      "630/630 [==============================] - 0s 219us/sample - loss: 4.3805 - val_loss: 4.7594\n",
      "Epoch 24/100\n",
      "630/630 [==============================] - 0s 211us/sample - loss: 4.1934 - val_loss: 4.8579\n",
      "Epoch 25/100\n",
      "630/630 [==============================] - 0s 216us/sample - loss: 4.2555 - val_loss: 4.6110\n",
      "Epoch 26/100\n",
      "630/630 [==============================] - 0s 230us/sample - loss: 4.2020 - val_loss: 5.3293\n",
      "Epoch 27/100\n",
      "630/630 [==============================] - 0s 221us/sample - loss: 4.1457 - val_loss: 4.8067\n",
      "Epoch 28/100\n",
      "630/630 [==============================] - 0s 240us/sample - loss: 4.1768 - val_loss: 4.6463\n",
      "Epoch 29/100\n",
      "630/630 [==============================] - 0s 221us/sample - loss: 4.3202 - val_loss: 5.0774\n",
      "Epoch 30/100\n",
      "630/630 [==============================] - 0s 224us/sample - loss: 4.0783 - val_loss: 4.7217\n",
      "Epoch 31/100\n",
      "630/630 [==============================] - 0s 219us/sample - loss: 3.9715 - val_loss: 4.7820\n",
      "Epoch 32/100\n",
      "630/630 [==============================] - 0s 213us/sample - loss: 3.9600 - val_loss: 4.8717\n",
      "Epoch 33/100\n",
      "630/630 [==============================] - 0s 224us/sample - loss: 3.9081 - val_loss: 4.7579\n",
      "Epoch 34/100\n",
      "630/630 [==============================] - 0s 239us/sample - loss: 3.9521 - val_loss: 4.8854\n",
      "Epoch 35/100\n",
      "630/630 [==============================] - 0s 232us/sample - loss: 3.9180 - val_loss: 4.6513\n",
      "Epoch 36/100\n",
      "630/630 [==============================] - 0s 209us/sample - loss: 3.9063 - val_loss: 4.9079\n",
      "Epoch 37/100\n",
      "630/630 [==============================] - 0s 211us/sample - loss: 4.0475 - val_loss: 5.4591\n",
      "Epoch 38/100\n",
      "630/630 [==============================] - 0s 217us/sample - loss: 4.1751 - val_loss: 4.7291\n",
      "Epoch 39/100\n",
      "630/630 [==============================] - 0s 215us/sample - loss: 3.9198 - val_loss: 4.6423\n",
      "Epoch 40/100\n",
      "630/630 [==============================] - 0s 212us/sample - loss: 3.8259 - val_loss: 4.7786\n",
      "Epoch 41/100\n",
      "630/630 [==============================] - 0s 222us/sample - loss: 3.8463 - val_loss: 4.6134\n",
      "Epoch 42/100\n",
      "630/630 [==============================] - 0s 212us/sample - loss: 3.9273 - val_loss: 4.6491\n",
      "Epoch 43/100\n",
      "630/630 [==============================] - 0s 220us/sample - loss: 3.8251 - val_loss: 4.7877\n",
      "Epoch 44/100\n",
      "630/630 [==============================] - 0s 235us/sample - loss: 3.7683 - val_loss: 4.8504\n",
      "Epoch 45/100\n",
      "630/630 [==============================] - 0s 229us/sample - loss: 3.8395 - val_loss: 4.9795\n",
      "Epoch 46/100\n",
      "630/630 [==============================] - 0s 211us/sample - loss: 3.8723 - val_loss: 4.7557\n",
      "Epoch 47/100\n",
      "630/630 [==============================] - 0s 221us/sample - loss: 3.8056 - val_loss: 4.7399\n",
      "Epoch 48/100\n",
      "630/630 [==============================] - 0s 219us/sample - loss: 3.7826 - val_loss: 4.9496\n",
      "Epoch 49/100\n",
      "630/630 [==============================] - 0s 219us/sample - loss: 3.8306 - val_loss: 4.8821\n",
      "Epoch 50/100\n",
      "630/630 [==============================] - 0s 215us/sample - loss: 3.8837 - val_loss: 4.7921\n",
      "Epoch 51/100\n",
      "630/630 [==============================] - 0s 266us/sample - loss: 3.8207 - val_loss: 5.6534\n",
      "Epoch 52/100\n",
      "630/630 [==============================] - 0s 290us/sample - loss: 3.9734 - val_loss: 4.8588\n",
      "Epoch 53/100\n",
      "630/630 [==============================] - 0s 251us/sample - loss: 3.7464 - val_loss: 4.8194\n",
      "Epoch 54/100\n",
      "630/630 [==============================] - 0s 232us/sample - loss: 3.7730 - val_loss: 4.8720\n",
      "Epoch 55/100\n",
      "630/630 [==============================] - 0s 208us/sample - loss: 3.8535 - val_loss: 4.7689\n",
      "Epoch 56/100\n",
      "630/630 [==============================] - 0s 205us/sample - loss: 3.7451 - val_loss: 4.7067\n",
      "Epoch 57/100\n",
      "630/630 [==============================] - 0s 216us/sample - loss: 3.7006 - val_loss: 4.7361\n",
      "Epoch 58/100\n",
      "630/630 [==============================] - 0s 208us/sample - loss: 3.6742 - val_loss: 4.7521\n",
      "Epoch 59/100\n",
      "630/630 [==============================] - 0s 205us/sample - loss: 3.7124 - val_loss: 4.9928\n",
      "Epoch 60/100\n",
      "630/630 [==============================] - 0s 208us/sample - loss: 3.7005 - val_loss: 4.9099\n",
      "Epoch 61/100\n",
      "630/630 [==============================] - 0s 219us/sample - loss: 3.7382 - val_loss: 4.9517\n",
      "Epoch 62/100\n",
      "630/630 [==============================] - 0s 222us/sample - loss: 3.6988 - val_loss: 4.6900\n",
      "Epoch 63/100\n",
      "630/630 [==============================] - 0s 230us/sample - loss: 3.7249 - val_loss: 4.6848\n",
      "Epoch 64/100\n",
      "630/630 [==============================] - 0s 224us/sample - loss: 3.8386 - val_loss: 4.8308\n",
      "Epoch 65/100\n",
      "630/630 [==============================] - 0s 229us/sample - loss: 4.0182 - val_loss: 4.7630\n",
      "Epoch 66/100\n",
      "630/630 [==============================] - 0s 223us/sample - loss: 3.7202 - val_loss: 5.0645\n",
      "Epoch 67/100\n",
      "630/630 [==============================] - 0s 225us/sample - loss: 3.9324 - val_loss: 5.4154\n",
      "Epoch 68/100\n",
      "630/630 [==============================] - 0s 226us/sample - loss: 3.8122 - val_loss: 4.9180\n",
      "Epoch 69/100\n",
      "630/630 [==============================] - ETA: 0s - loss: 3.636 - 0s 222us/sample - loss: 3.6650 - val_loss: 5.0466\n",
      "Epoch 70/100\n",
      "630/630 [==============================] - 0s 221us/sample - loss: 3.5701 - val_loss: 5.0556\n",
      "Epoch 71/100\n",
      "630/630 [==============================] - 0s 220us/sample - loss: 3.6824 - val_loss: 4.9243\n",
      "Epoch 72/100\n",
      "630/630 [==============================] - 0s 234us/sample - loss: 3.5491 - val_loss: 4.8139\n",
      "Epoch 73/100\n",
      "630/630 [==============================] - 0s 236us/sample - loss: 3.7201 - val_loss: 4.7222\n",
      "Epoch 74/100\n",
      "630/630 [==============================] - 0s 218us/sample - loss: 3.6066 - val_loss: 5.0036\n",
      "Epoch 75/100\n",
      "630/630 [==============================] - 0s 234us/sample - loss: 3.6623 - val_loss: 4.8477\n",
      "Epoch 76/100\n",
      "630/630 [==============================] - 0s 251us/sample - loss: 3.6142 - val_loss: 4.9306\n",
      "Epoch 77/100\n"
     ]
    },
    {
     "name": "stdout",
     "output_type": "stream",
     "text": [
      "630/630 [==============================] - 0s 227us/sample - loss: 3.6127 - val_loss: 4.9065\n",
      "Epoch 78/100\n",
      "630/630 [==============================] - 0s 230us/sample - loss: 3.5688 - val_loss: 4.9886\n",
      "Epoch 79/100\n",
      "630/630 [==============================] - 0s 228us/sample - loss: 3.5825 - val_loss: 4.9141\n",
      "Epoch 80/100\n",
      "630/630 [==============================] - 0s 230us/sample - loss: 3.7293 - val_loss: 4.8422\n",
      "Epoch 81/100\n",
      "630/630 [==============================] - 0s 215us/sample - loss: 3.5687 - val_loss: 4.8722\n",
      "Epoch 82/100\n",
      "630/630 [==============================] - 0s 231us/sample - loss: 3.5974 - val_loss: 5.3334\n",
      "Epoch 83/100\n",
      "630/630 [==============================] - 0s 238us/sample - loss: 3.7963 - val_loss: 5.0999\n",
      "Epoch 84/100\n",
      "630/630 [==============================] - 0s 223us/sample - loss: 3.5645 - val_loss: 5.0566\n",
      "Epoch 85/100\n",
      "630/630 [==============================] - 0s 234us/sample - loss: 4.0249 - val_loss: 5.1105\n",
      "Epoch 86/100\n",
      "630/630 [==============================] - 0s 228us/sample - loss: 3.8031 - val_loss: 5.0304\n",
      "Epoch 87/100\n",
      "630/630 [==============================] - ETA: 0s - loss: 3.617 - 0s 229us/sample - loss: 3.6051 - val_loss: 4.9161\n",
      "Epoch 88/100\n",
      "630/630 [==============================] - 0s 233us/sample - loss: 3.7721 - val_loss: 5.2777\n",
      "Epoch 89/100\n",
      "630/630 [==============================] - 0s 235us/sample - loss: 4.1656 - val_loss: 5.0528\n",
      "Epoch 90/100\n",
      "630/630 [==============================] - 0s 228us/sample - loss: 3.7377 - val_loss: 5.1074\n",
      "Epoch 91/100\n",
      "630/630 [==============================] - 0s 228us/sample - loss: 3.6873 - val_loss: 5.0007\n",
      "Epoch 92/100\n",
      "630/630 [==============================] - 0s 226us/sample - loss: 3.6736 - val_loss: 5.0200\n",
      "Epoch 93/100\n",
      "630/630 [==============================] - 0s 217us/sample - loss: 3.6576 - val_loss: 5.1056\n",
      "Epoch 94/100\n",
      "630/630 [==============================] - 0s 215us/sample - loss: 3.6933 - val_loss: 4.8462\n",
      "Epoch 95/100\n",
      "630/630 [==============================] - 0s 220us/sample - loss: 3.5503 - val_loss: 4.8472\n",
      "Epoch 96/100\n",
      "630/630 [==============================] - 0s 223us/sample - loss: 3.4413 - val_loss: 4.9493\n",
      "Epoch 97/100\n",
      "630/630 [==============================] - 0s 201us/sample - loss: 3.5300 - val_loss: 4.9324\n",
      "Epoch 98/100\n",
      "630/630 [==============================] - 0s 223us/sample - loss: 3.9044 - val_loss: 5.2123\n",
      "Epoch 99/100\n",
      "630/630 [==============================] - 0s 236us/sample - loss: 3.6381 - val_loss: 5.1293\n",
      "Epoch 100/100\n",
      "630/630 [==============================] - 0s 233us/sample - loss: 3.5906 - val_loss: 4.8846\n"
     ]
    }
   ],
   "source": [
    "model1=keras.Sequential([keras.layers.Flatten(),\n",
    "                  keras.layers.Dense(300,activation=tf.nn.relu),\n",
    "                  keras.layers.Dense(150,activation=tf.nn.relu),\n",
    "                  keras.layers.Dense(75,activation=tf.nn.relu),\n",
    "                  keras.layers.Dense(35,activation=tf.nn.relu),\n",
    "                  keras.layers.Dense(15,activation=tf.nn.relu),\n",
    "                  keras.layers.Dense(7,activation=tf.nn.relu),\n",
    "                  keras.layers.Dense(3,activation=tf.nn.relu),\n",
    "                  keras.layers.Dense(2,activation=tf.nn.relu),\n",
    "                  keras.layers.Dense(1,activation=tf.nn.relu),\n",
    "                         \n",
    "                 ])\n",
    "\n",
    "model1.compile(optimizer=tf.optimizers.Adam(),loss=tf.losses.mae)\n",
    "\n",
    "his=model1.fit(xt,yt,epochs=100,validation_split=0.1)"
   ]
  },
  {
   "cell_type": "code",
   "execution_count": 51,
   "metadata": {},
   "outputs": [
    {
     "data": {
      "image/png": "[encoded data removed]",
      "text/plain": [
       "<Figure size 432x288 with 1 Axes>"
      ]
     },
     "metadata": {
      "needs_background": "light"
     },
     "output_type": "display_data"
    },
    {
     "data": {
      "image/png": "[encoded data removed]",
      "text/plain": [
       "<Figure size 432x288 with 1 Axes>"
      ]
     },
     "metadata": {
      "needs_background": "light"
     },
     "output_type": "display_data"
    },
    {
     "data": {
      "image/png": "[encoded data removed]",
      "text/plain": [
       "<Figure size 432x288 with 1 Axes>"
      ]
     },
     "metadata": {
      "needs_background": "light"
     },
     "output_type": "display_data"
    }
   ],
   "source": [
    "def plot_graphs(history, string):\n",
    "  plt.plot(history.history[string])\n",
    "  plt.plot(history.history['val_'+string])\n",
    "  plt.xlabel(\"Epochs\")\n",
    "  plt.ylabel(string)\n",
    "  plt.legend([string, 'val_'+string])\n",
    "  plt.show()\n",
    "  \n",
    "#plot_graphs(his, \"accuracy\")\n",
    "plot_graphs(his, \"loss\")\n",
    "string=\"loss\"\n",
    "plt.plot(his.history[string])\n",
    "plt.xlabel(\"Epochs\")\n",
    "plt.ylabel(string)\n",
    "plt.show()\n",
    "\n",
    "plt.plot(his.history['val_'+string])\n",
    "plt.xlabel(\"Epochs\")\n",
    "plt.ylabel(\"Val_\"+string)\n",
    "plt.show()"
   ]
  },
  {
   "cell_type": "code",
   "execution_count": 37,
   "metadata": {},
   "outputs": [],
   "source": [
    "y_pred=model1.predict(test_data)"
   ]
  },
  {
   "cell_type": "code",
   "execution_count": 102,
   "metadata": {},
   "outputs": [],
   "source": [
    "sample=pd.read_csv(\"sample_submissions.csv\")\n",
    "\n",
    "sample=sample.drop([\"math score\"],axis=1)\n",
    "\n",
    "sample[\"math score\"]=y_pred\n",
    "\n",
    "sample.to_csv(\"nn4.csv\",index=False)"
   ]
  }
 ],
 "metadata": {
  "kernelspec": {
   "display_name": "Python 3",
   "language": "python",
   "name": "python3"
  },
  "language_info": {
   "codemirror_mode": {
    "name": "ipython",
    "version": 3
   },
   "file_extension": ".py",
   "mimetype": "text/x-python",
   "name": "python",
   "nbconvert_exporter": "python",
   "pygments_lexer": "ipython3",
   "version": "3.7.4"
  }
 },
 "nbformat": 4,
 "nbformat_minor": 2
}
